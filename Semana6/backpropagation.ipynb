{
 "cells": [
  {
   "cell_type": "code",
   "execution_count": 3,
   "metadata": {},
   "outputs": [],
   "source": [
    "import numpy as np\n",
    "from tensorflow.keras import layers "
   ]
  },
  {
   "cell_type": "code",
   "execution_count": 17,
   "metadata": {},
   "outputs": [],
   "source": [
    "def sigmoid(z):\n",
    "    return 1/(1+np.exp(-z))\n",
    "\n",
    "def tanh(z):\n",
    "    return np.tanh(z)\n",
    "\n",
    "def relu(z):\n",
    "    return np.maximum(0,z)\n",
    "\n",
    "def softmax(z):\n",
    "    e=np.exp(z-np.max(z))\n",
    "    return e/e.sum()\n",
    "\n",
    "activations={\n",
    "    \"sigmoid\":sigmoid,\n",
    "    \"tanh\":tanh,\n",
    "    \"relu\":relu,\n",
    "    \"softmax\":softmax\n",
    "}\n",
    "\n",
    "def MyInput(shape):\n",
    "    return {\n",
    "        \"type\":\"input\",\n",
    "        \"shape\":shape\n",
    "    }\n",
    "\n",
    "def MyDense(num_neurons,activation=\"sigmoid\"):\n",
    "    return{\n",
    "        \"type\":\"dense\",\n",
    "        \"num_neurowns\":num_neurons,\n",
    "        \"activation\":activation\n",
    "    }\n",
    "\n",
    "class Layer:\n",
    "    def __input__(self):\n",
    "        self.W = None\n",
    "        self.b=None\n",
    "        self.activation=None\n",
    "\n",
    "class MyNN:\n",
    "    def __init__(self,layers):\n",
    "        self.layers = []\n",
    "        for li in layers:\n",
    "            if li[\"type\"]==\"input\":\n",
    "                cols=li[\"shape\"][1]\n",
    "            else:\n",
    "                l=Layer()\n",
    "                l.W=np.zeros((cols,li[\"num_neurons\"]))\n",
    "                cols=li[\"num_neurons\"]\n",
    "\n",
    "                l.b=np.zeros((cols,1))\n",
    "                self.layers.append(l)\n",
    "        for i in self.layers:\n",
    "            print(l.W.shape)\n",
    "    def __forward_propagation(self,x,y):\n",
    "        A_i=x\n",
    "        for li in self.layers:\n",
    "            W_i=li.W\n",
    "            b=li.b\n",
    "            f=li.activation\n",
    "            Y_i=np.matmul(A_i,W_i)+b\n",
    "            self.y=li.activation(self.y)\n",
    "            A_i=f(Y_i)\n",
    "        self.y_hat=A_i\n",
    "    def __back_propagation():\n",
    "        pass\n",
    "    def fit(self,x,y,epochs=10):\n",
    "        for _ in range(epochs):\n",
    "            self.__forward_propagation(x,y)\n",
    "            self.__back_propagation()"
   ]
  },
  {
   "cell_type": "code",
   "execution_count": 18,
   "metadata": {},
   "outputs": [
    {
     "ename": "KeyError",
     "evalue": "'num_neurons'",
     "output_type": "error",
     "traceback": [
      "\u001b[1;31m---------------------------------------------------------------------------\u001b[0m",
      "\u001b[1;31mKeyError\u001b[0m                                  Traceback (most recent call last)",
      "Cell \u001b[1;32mIn[18], line 1\u001b[0m\n\u001b[1;32m----> 1\u001b[0m model \u001b[39m=\u001b[39m MyNN([\n\u001b[0;32m      2\u001b[0m     MyInput(shape\u001b[39m=\u001b[39m(\u001b[39m60000\u001b[39m,\u001b[39m784\u001b[39m)),\n\u001b[0;32m      3\u001b[0m     MyDense(\u001b[39m128\u001b[39m,activation\u001b[39m=\u001b[39m\u001b[39m\"\u001b[39m\u001b[39mrelu\u001b[39m\u001b[39m\"\u001b[39m),\n\u001b[0;32m      4\u001b[0m     MyDense(\u001b[39m64\u001b[39m,activation\u001b[39m=\u001b[39m\u001b[39m\"\u001b[39m\u001b[39mrelu\u001b[39m\u001b[39m\"\u001b[39m),\n\u001b[0;32m      5\u001b[0m     MyDense(\u001b[39m10\u001b[39m,activation\u001b[39m=\u001b[39m\u001b[39m\"\u001b[39m\u001b[39msoftmax\u001b[39m\u001b[39m\"\u001b[39m)\n\u001b[0;32m      6\u001b[0m \n\u001b[0;32m      7\u001b[0m ])\n",
      "Cell \u001b[1;32mIn[17], line 48\u001b[0m, in \u001b[0;36mMyNN.__init__\u001b[1;34m(self, layers)\u001b[0m\n\u001b[0;32m     46\u001b[0m \u001b[39melse\u001b[39;00m:\n\u001b[0;32m     47\u001b[0m     l\u001b[39m=\u001b[39mLayer()\n\u001b[1;32m---> 48\u001b[0m     l\u001b[39m.\u001b[39mW\u001b[39m=\u001b[39mnp\u001b[39m.\u001b[39mzeros((cols,li[\u001b[39m\"\u001b[39m\u001b[39mnum_neurons\u001b[39m\u001b[39m\"\u001b[39m]))\n\u001b[0;32m     49\u001b[0m     cols\u001b[39m=\u001b[39mli[\u001b[39m\"\u001b[39m\u001b[39mnum_neurons\u001b[39m\u001b[39m\"\u001b[39m]\n\u001b[0;32m     51\u001b[0m     l\u001b[39m.\u001b[39mb\u001b[39m=\u001b[39mnp\u001b[39m.\u001b[39mzeros((cols,\u001b[39m1\u001b[39m))\n",
      "\u001b[1;31mKeyError\u001b[0m: 'num_neurons'"
     ]
    }
   ],
   "source": [
    "model = MyNN([\n",
    "    MyInput(shape=(60000,784)),\n",
    "    MyDense(128,activation=\"relu\"),\n",
    "    MyDense(64,activation=\"relu\"),\n",
    "    MyDense(10,activation=\"softmax\")\n",
    "\n",
    "])"
   ]
  }
 ],
 "metadata": {
  "kernelspec": {
   "display_name": "ml",
   "language": "python",
   "name": "python3"
  },
  "language_info": {
   "codemirror_mode": {
    "name": "ipython",
    "version": 3
   },
   "file_extension": ".py",
   "mimetype": "text/x-python",
   "name": "python",
   "nbconvert_exporter": "python",
   "pygments_lexer": "ipython3",
   "version": "3.11.2"
  },
  "orig_nbformat": 4
 },
 "nbformat": 4,
 "nbformat_minor": 2
}
